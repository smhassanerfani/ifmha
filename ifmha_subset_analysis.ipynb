{
 "cells": [
  {
   "cell_type": "code",
   "execution_count": 1,
   "metadata": {},
   "outputs": [],
   "source": [
    "import numpy as np\n",
    "import pandas as pd\n",
    "import matplotlib.pyplot as plt\n",
    "import seaborn as sns\n",
    "sns.set(style='darkgrid')\n",
    "\n",
    "from utils import scatter_plot\n",
    "\n",
    "%load_ext autoreload\n",
    "%autoreload 2"
   ]
  },
  {
   "cell_type": "code",
   "execution_count": 4,
   "metadata": {},
   "outputs": [
    {
     "data": {
      "text/plain": [
       "(2802532, 47)"
      ]
     },
     "execution_count": 4,
     "metadata": {},
     "output_type": "execute_result"
    }
   ],
   "source": [
    "ifmha = pd.read_csv('./dataset/IFMHA.csv', converters={'site_no': str}, low_memory=False)\n",
    "ifmha.shape"
   ]
  },
  {
   "cell_type": "code",
   "execution_count": 7,
   "metadata": {},
   "outputs": [
    {
     "name": "stdout",
     "output_type": "stream",
     "text": [
      "dataset size: (2248655, 47)\n"
     ]
    }
   ],
   "source": [
    "# Remove Zero/Missing Values\n",
    "candidate_columns=['site_no', 'site_tp_cd', 'chan_discharge', 'chan_area', 'chan_width', 'SLOPE']\n",
    "\n",
    "ifmha_subset = ifmha[(ifmha[candidate_columns] != 0).all(axis=1)]\n",
    "ifmha_subset = ifmha_subset.dropna(axis=0, how='any', subset=candidate_columns)\n",
    "print(f\"dataset size: {ifmha_subset.shape}\")"
   ]
  },
  {
   "cell_type": "code",
   "execution_count": 8,
   "metadata": {},
   "outputs": [
    {
     "data": {
      "text/plain": [
       "(2107954, 47)"
      ]
     },
     "execution_count": 8,
     "metadata": {},
     "output_type": "execute_result"
    }
   ],
   "source": [
    "# Exclude USGS sites with negative discharge observations\n",
    "ifmha_subset = ifmha_subset[ifmha_subset.groupby('site_no')['chan_discharge'].transform(lambda x: (x<0).sum()) == 0]\n",
    "ifmha_subset.shape"
   ]
  },
  {
   "cell_type": "code",
   "execution_count": 9,
   "metadata": {},
   "outputs": [
    {
     "name": "stdout",
     "output_type": "stream",
     "text": [
      "(2093881, 47)\n"
     ]
    }
   ],
   "source": [
    "# Keep only sites categorized as channels or streams\n",
    "ifmha_subset = ifmha_subset[ifmha_subset['site_tp_cd'].isin(['ST'])]\n",
    "print(ifmha_subset.shape)"
   ]
  },
  {
   "cell_type": "code",
   "execution_count": 10,
   "metadata": {},
   "outputs": [],
   "source": [
    "# Mean depth estimation\n",
    "ifmha_subset['chan_mean_depth'] = ifmha_subset['chan_area']/ifmha_subset['chan_width']\n",
    "\n",
    "# Maximum depth estimation\n",
    "ifmha_subset['chan_max_depth'] = 1.47910570 * ifmha_subset['chan_mean_depth'] - 0.02600691"
   ]
  },
  {
   "cell_type": "code",
   "execution_count": 12,
   "metadata": {},
   "outputs": [
    {
     "name": "stdout",
     "output_type": "stream",
     "text": [
      "(2093328, 49)\n"
     ]
    }
   ],
   "source": [
    "# Sanity check for having physically meaningful channel characteristics\n",
    "ifmha_subset = ifmha_subset[(ifmha_subset[['chan_area', 'chan_mean_depth', 'chan_max_depth']] > 0).all(axis=1)]\n",
    "print(ifmha_subset.shape)"
   ]
  }
 ],
 "metadata": {
  "kernelspec": {
   "display_name": ".venv",
   "language": "python",
   "name": "python3"
  },
  "language_info": {
   "codemirror_mode": {
    "name": "ipython",
    "version": 3
   },
   "file_extension": ".py",
   "mimetype": "text/x-python",
   "name": "python",
   "nbconvert_exporter": "python",
   "pygments_lexer": "ipython3",
   "version": "3.11.2"
  }
 },
 "nbformat": 4,
 "nbformat_minor": 2
}
