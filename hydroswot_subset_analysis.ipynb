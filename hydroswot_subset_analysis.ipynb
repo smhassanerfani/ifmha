{
 "cells": [
  {
   "cell_type": "code",
   "execution_count": 1,
   "metadata": {},
   "outputs": [],
   "source": [
    "import pandas as pd\n",
    "import numpy as np\n",
    "import matplotlib.pyplot as plt\n",
    "import seaborn as sns\n",
    "sns.set(style='darkgrid')"
   ]
  },
  {
   "cell_type": "code",
   "execution_count": 2,
   "metadata": {},
   "outputs": [
    {
     "data": {
      "text/plain": [
       "(223022, 75)"
      ]
     },
     "execution_count": 2,
     "metadata": {},
     "output_type": "execute_result"
    }
   ],
   "source": [
    "hydroswot = pd.read_csv('dataset/SWOT_ADCP_Dataset.csv', converters={'site_no': str}, low_memory=False)\n",
    "hydroswot.shape"
   ]
  },
  {
   "cell_type": "code",
   "execution_count": 5,
   "metadata": {},
   "outputs": [
    {
     "name": "stdout",
     "output_type": "stream",
     "text": [
      "(55240, 7)\n"
     ]
    }
   ],
   "source": [
    "candidate_columns=['site_no', 'site_tp_cd', 'q_va', 'stream_wdth_va', 'xsec_area_va', 'mean_depth_va', 'max_depth_va']\n",
    "df = hydroswot[candidate_columns]\n",
    "df = df.dropna(axis=0, how='any', subset=candidate_columns)\n",
    "print(df.shape)"
   ]
  },
  {
   "cell_type": "code",
   "execution_count": 6,
   "metadata": {},
   "outputs": [
    {
     "name": "stdout",
     "output_type": "stream",
     "text": [
      "(55231, 7)\n"
     ]
    }
   ],
   "source": [
    "df = df[(df != 0).all(axis=1)]\n",
    "print(df.shape)"
   ]
  },
  {
   "cell_type": "code",
   "execution_count": 7,
   "metadata": {},
   "outputs": [
    {
     "name": "stdout",
     "output_type": "stream",
     "text": [
      "(49022, 7)\n"
     ]
    }
   ],
   "source": [
    "hydro_pos_q = df[df.groupby('site_no')['q_va'].transform(lambda x: (x<0).sum()) == 0]\n",
    "print(hydro_pos_q.shape)"
   ]
  },
  {
   "cell_type": "code",
   "execution_count": 8,
   "metadata": {},
   "outputs": [
    {
     "name": "stdout",
     "output_type": "stream",
     "text": [
      "(47522, 7)\n"
     ]
    }
   ],
   "source": [
    "hydro_pos_q = hydro_pos_q[hydro_pos_q['site_tp_cd'].isin(['ST'])]\n",
    "print(hydro_pos_q.shape)"
   ]
  },
  {
   "cell_type": "code",
   "execution_count": 9,
   "metadata": {},
   "outputs": [
    {
     "name": "stdout",
     "output_type": "stream",
     "text": [
      "site locations with positive discharge: \n"
     ]
    },
    {
     "data": {
      "text/plain": [
       "count    5914.000000\n",
       "mean        8.035509\n",
       "std        10.050780\n",
       "min         1.000000\n",
       "25%         2.000000\n",
       "50%         4.000000\n",
       "75%        11.000000\n",
       "max       159.000000\n",
       "Name: count, dtype: float64"
      ]
     },
     "execution_count": 9,
     "metadata": {},
     "output_type": "execute_result"
    }
   ],
   "source": [
    "hydro_pos_q.reset_index(drop=True, inplace=True)\n",
    "\n",
    "print(\"site locations with positive discharge: \")\n",
    "hydro_pos_q['site_no'].value_counts().describe()"
   ]
  },
  {
   "cell_type": "code",
   "execution_count": 10,
   "metadata": {},
   "outputs": [
    {
     "data": {
      "text/html": [
       "<div>\n",
       "<style scoped>\n",
       "    .dataframe tbody tr th:only-of-type {\n",
       "        vertical-align: middle;\n",
       "    }\n",
       "\n",
       "    .dataframe tbody tr th {\n",
       "        vertical-align: top;\n",
       "    }\n",
       "\n",
       "    .dataframe thead th {\n",
       "        text-align: right;\n",
       "    }\n",
       "</style>\n",
       "<table border=\"1\" class=\"dataframe\">\n",
       "  <thead>\n",
       "    <tr style=\"text-align: right;\">\n",
       "      <th></th>\n",
       "      <th>q_va</th>\n",
       "      <th>stream_wdth_va</th>\n",
       "      <th>xsec_area_va</th>\n",
       "      <th>mean_depth_va</th>\n",
       "      <th>max_depth_va</th>\n",
       "    </tr>\n",
       "  </thead>\n",
       "  <tbody>\n",
       "    <tr>\n",
       "      <th>count</th>\n",
       "      <td>4.752200e+04</td>\n",
       "      <td>47522.000000</td>\n",
       "      <td>47522.000000</td>\n",
       "      <td>47522.000000</td>\n",
       "      <td>47522.000000</td>\n",
       "    </tr>\n",
       "    <tr>\n",
       "      <th>mean</th>\n",
       "      <td>1.100066e+04</td>\n",
       "      <td>239.193869</td>\n",
       "      <td>3431.116848</td>\n",
       "      <td>6.682162</td>\n",
       "      <td>9.857616</td>\n",
       "    </tr>\n",
       "    <tr>\n",
       "      <th>std</th>\n",
       "      <td>5.903527e+04</td>\n",
       "      <td>397.990026</td>\n",
       "      <td>14575.380645</td>\n",
       "      <td>7.269928</td>\n",
       "      <td>10.752993</td>\n",
       "    </tr>\n",
       "    <tr>\n",
       "      <th>min</th>\n",
       "      <td>5.300000e-02</td>\n",
       "      <td>2.550000</td>\n",
       "      <td>1.080000</td>\n",
       "      <td>0.520000</td>\n",
       "      <td>0.680000</td>\n",
       "    </tr>\n",
       "    <tr>\n",
       "      <th>25%</th>\n",
       "      <td>2.391915e+02</td>\n",
       "      <td>69.230000</td>\n",
       "      <td>195.000250</td>\n",
       "      <td>2.677000</td>\n",
       "      <td>4.085000</td>\n",
       "    </tr>\n",
       "    <tr>\n",
       "      <th>50%</th>\n",
       "      <td>8.000850e+02</td>\n",
       "      <td>122.638000</td>\n",
       "      <td>529.430000</td>\n",
       "      <td>4.460000</td>\n",
       "      <td>6.791000</td>\n",
       "    </tr>\n",
       "    <tr>\n",
       "      <th>75%</th>\n",
       "      <td>3.128004e+03</td>\n",
       "      <td>244.187250</td>\n",
       "      <td>1585.674250</td>\n",
       "      <td>7.842750</td>\n",
       "      <td>11.407000</td>\n",
       "    </tr>\n",
       "    <tr>\n",
       "      <th>max</th>\n",
       "      <td>2.257500e+06</td>\n",
       "      <td>16361.950000</td>\n",
       "      <td>357000.000000</td>\n",
       "      <td>118.770000</td>\n",
       "      <td>205.670000</td>\n",
       "    </tr>\n",
       "  </tbody>\n",
       "</table>\n",
       "</div>"
      ],
      "text/plain": [
       "               q_va  stream_wdth_va   xsec_area_va  mean_depth_va  \\\n",
       "count  4.752200e+04    47522.000000   47522.000000   47522.000000   \n",
       "mean   1.100066e+04      239.193869    3431.116848       6.682162   \n",
       "std    5.903527e+04      397.990026   14575.380645       7.269928   \n",
       "min    5.300000e-02        2.550000       1.080000       0.520000   \n",
       "25%    2.391915e+02       69.230000     195.000250       2.677000   \n",
       "50%    8.000850e+02      122.638000     529.430000       4.460000   \n",
       "75%    3.128004e+03      244.187250    1585.674250       7.842750   \n",
       "max    2.257500e+06    16361.950000  357000.000000     118.770000   \n",
       "\n",
       "       max_depth_va  \n",
       "count  47522.000000  \n",
       "mean       9.857616  \n",
       "std       10.752993  \n",
       "min        0.680000  \n",
       "25%        4.085000  \n",
       "50%        6.791000  \n",
       "75%       11.407000  \n",
       "max      205.670000  "
      ]
     },
     "execution_count": 10,
     "metadata": {},
     "output_type": "execute_result"
    }
   ],
   "source": [
    "hydro_pos_q.describe()"
   ]
  }
 ],
 "metadata": {
  "kernelspec": {
   "display_name": ".venv",
   "language": "python",
   "name": "python3"
  },
  "language_info": {
   "codemirror_mode": {
    "name": "ipython",
    "version": 3
   },
   "file_extension": ".py",
   "mimetype": "text/x-python",
   "name": "python",
   "nbconvert_exporter": "python",
   "pygments_lexer": "ipython3",
   "version": "3.11.2"
  }
 },
 "nbformat": 4,
 "nbformat_minor": 2
}
